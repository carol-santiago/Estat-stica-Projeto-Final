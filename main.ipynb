{
 "cells": [
  {
   "cell_type": "markdown",
   "metadata": {},
   "source": [
    "# Código do Projeto Final de Estatística e Módulos Probabilísticos\n",
    "\n",
    "## 1. Dataset"
   ]
  },
  {
   "cell_type": "code",
   "execution_count": 1,
   "metadata": {},
   "outputs": [],
   "source": [
    "import pandas as pd\n",
    "import numpy as np\n",
    "import seaborn as sns\n",
    "import matplotlib.pyplot as plt"
   ]
  },
  {
   "cell_type": "code",
   "execution_count": 2,
   "metadata": {},
   "outputs": [],
   "source": [
    "# Importando os datasets como dataframes\n",
    "\n",
    "df_chromecast = pd.read_csv('data\\dataset_chromecast.csv')\n",
    "df_smarttv = pd.read_csv('data\\dataset_smart-tv.csv')"
   ]
  },
  {
   "cell_type": "code",
   "execution_count": 3,
   "metadata": {},
   "outputs": [],
   "source": [
    "# Conversão das taxas para a escala logarítmica\n",
    "\n",
    "def log10_scale(df, col):\n",
    "    # Substitui os valores de 0 para NaN, assim garantindo que \n",
    "    # sejam mantidos como 0 após a conversão (pois log10(0) = -inf)\n",
    "    df[col] = df[col].replace(0, np.nan)\n",
    "    df[col] = np.log10(df[col])\n",
    "    df[col] = df[col].replace(np.nan, 0.0)\n",
    "    return df\n",
    "\n",
    "\n",
    "df_chromecast = log10_scale(df_chromecast, 'bytes_down')\n",
    "df_chromecast = log10_scale(df_chromecast, 'bytes_up')\n",
    "\n",
    "df_smarttv = log10_scale(df_smarttv, 'bytes_down')\n",
    "df_smarttv = log10_scale(df_smarttv, 'bytes_up')"
   ]
  },
  {
   "cell_type": "markdown",
   "metadata": {},
   "source": [
    "## 2. Estatísticas Gerais\n",
    "\n",
    "### 2.1. Média, Variância e Desvio Padrão"
   ]
  },
  {
   "cell_type": "code",
   "execution_count": null,
   "metadata": {},
   "outputs": [],
   "source": [
    "# Calculando + Arredondando os valores para 3 casas decimais:\n",
    "\n",
    "chromecast_stats_down = df_chromecast['bytes_down'].agg(['mean', 'std', 'var']).round(3)\n",
    "chromecast_stats_up = df_chromecast['bytes_up'].agg(['mean', 'std', 'var']).round(3)\n",
    "\n",
    "smarttv_stats_down = df_smarttv['bytes_down'].agg(['mean', 'std', 'var']).round(3)\n",
    "smarttv_stats_up = df_smarttv['bytes_up'].agg(['mean', 'std', 'var']).round(3)\n",
    "\n",
    "# Resultados:\n",
    "# print('chromecast_stats_down', chromecast_stats_down,\n",
    "#       'chromecast_stats_up', chromecast_stats_up,\n",
    "#       'smarttv_stats_down', smarttv_stats_down,\n",
    "#       'smarttv_stats_up', smarttv_stats_up, sep='\\n')"
   ]
  },
  {
   "cell_type": "markdown",
   "metadata": {},
   "source": [
    "#### Resultados:\n",
    "\n",
    "|                 | MEAN  | STD   | VAR   |\n",
    "|:---------------:|:-----:|:-----:|:-----:|\n",
    "| chromecast_down | 3.799 | 1.291 | 1.666 |\n",
    "| chromecast_up   | 3.350 | 0.679 | 0.462 |\n",
    "| smarttv_down    | 2.350 | 2.593 | 6.724 |\n",
    "| smarttv_up      | 2.157 | 2.028 | 4.113 |\n",
    "\n"
   ]
  },
  {
   "cell_type": "markdown",
   "metadata": {},
   "source": [
    "### 2.2 Gráficos"
   ]
  },
  {
   "cell_type": "code",
   "execution_count": null,
   "metadata": {},
   "outputs": [],
   "source": [
    "def hist_plot(df, col, device, label):\n",
    "    # Calcular \"bins\" usando o método de Sturges\n",
    "    num_bins = int(1 + np.log2(len(df[col])))\n",
    "\n",
    "    # Criando o histograma\n",
    "    plt.hist(df[col], bins=num_bins, edgecolor='black', alpha=0.7)\n",
    "\n",
    "    plt.xlabel(label)\n",
    "    plt.ylabel('Frequência')\n",
    "    plt.title(f'{device} - {label}')\n",
    "    \n",
    "    plt.savefig(f'output_data/2_stats_gerais/hist_{device}_{label}.png')\n",
    "    plt.show()\n",
    "\n",
    "hist_plot(df_chromecast, 'bytes_down', 'Chromecast', 'Taxa de Download')\n",
    "hist_plot(df_chromecast, 'bytes_up', 'Chromecast', 'Taxa de Upload')\n",
    "hist_plot(df_smarttv, 'bytes_down', 'SmartTV', 'Taxa de Download')\n",
    "hist_plot(df_smarttv, 'bytes_up', 'SmartTV', 'Taxa de Upload')"
   ]
  },
  {
   "cell_type": "code",
   "execution_count": null,
   "metadata": {},
   "outputs": [],
   "source": [
    "# Função Distribuição Empírica (ECDF)\n",
    "\n",
    "def ecdf_plot(data, device, label):\n",
    "\n",
    "    x = np.sort(data)\n",
    "    # Calculando a probabilidade acumulada para cada valor:\n",
    "    y = np.arange(1, len(x) + 1) / len(x)\n",
    "    \n",
    "    # Plotando o gráfico\n",
    "    plt.step(x, y, label=label)\n",
    "\n",
    "    plt.xlabel('Valores')\n",
    "    plt.ylabel('Probabilidade Cumulativa')\n",
    "    plt.title('Função de Distribuição Empírica')\n",
    "    plt.legend()\n",
    "    \n",
    "    plt.savefig(f'output_data/2_stats_gerais/ecdf_{device}_{label}.png')\n",
    "    plt.show()\n",
    "\n",
    "ecdf_plot(df_chromecast['bytes_down'], 'Chromecast', 'Taxa de Download')\n",
    "ecdf_plot(df_chromecast['bytes_up'], 'Chromecast', 'Taxa de Upload')\n",
    "ecdf_plot(df_smarttv['bytes_down'], 'SmartTV', 'Taxa de Download')\n",
    "ecdf_plot(df_smarttv['bytes_up'], 'SmartTV', 'Taxa de Upload')"
   ]
  },
  {
   "cell_type": "code",
   "execution_count": 29,
   "metadata": {},
   "outputs": [
    {
     "data": {
      "image/png": "[encoded data removed]",
      "text/plain": [
       "<Figure size 640x480 with 1 Axes>"
      ]
     },
     "metadata": {},
     "output_type": "display_data"
    }
   ],
   "source": [
    "\n",
    "def boxplot(df1, df2, labels):\n",
    "    # Dados para os box plots\n",
    "    data_1 = [df1['bytes_down'], df1['bytes_up']]\n",
    "    data_2 = [df2['bytes_down'], df2['bytes_up']]\n",
    "\n",
    "    # Rótulos\n",
    "    box_labels = [labels[0] + 'Chrome', labels[1] + 'Chrome', \n",
    "                  labels[0] + 'TV', labels[1] + 'TV']\n",
    "\n",
    "    # Criando o plot\n",
    "    fig, ax = plt.subplots()\n",
    "    ax.boxplot(data_1 + data_2, labels=box_labels, showfliers=True)\n",
    "\n",
    "    ax.yaxis.grid(True, linestyle='-', which='major', color='lightgrey', alpha=0.5)\n",
    "    \n",
    "    ax.set(axisbelow=True,\n",
    "           xlabel='Tipo de Taxa + Dispositivo',\n",
    "           ylabel='Valores',\n",
    "           title='Box Plots - Chromecast e Smart TV')\n",
    "    \n",
    "    plt.savefig('output_data/2_stats_gerais/boxplot.png')\n",
    "    plt.show()\n",
    "    \n",
    "\n",
    "labels = ['Download', 'Upload']\n",
    "boxplot(df_chromecast, df_smarttv, labels)\n"
   ]
  },
  {
   "cell_type": "markdown",
   "metadata": {},
   "source": [
    "## 3. Estatísticas por Horário"
   ]
  },
  {
   "cell_type": "code",
   "execution_count": null,
   "metadata": {},
   "outputs": [],
   "source": [
    "def plot_statistics(df, label):\n",
    "\n",
    "    # Criando a coluna de horas\n",
    "    df['date_hour'] = pd.to_datetime(df['date_hour'])\n",
    "    df['hour'] = df['date_hour'].dt.hour\n",
    "\n",
    "    grouped_data = df.groupby('hour')\n",
    "\n",
    "    result_stats = grouped_data.agg({\n",
    "        'bytes_up': ['mean', 'var', 'std'],\n",
    "        'bytes_down': ['mean', 'var', 'std']\n",
    "    }).reset_index()\n",
    "\n",
    "    # Gráfico\n",
    "    plt.figure(figsize=(14, 8))\n",
    "\n",
    "    # Taxa de Upload\n",
    "    plt.subplot(2, 1, 1)\n",
    "    plt.plot(result_stats['hour'], result_stats[('bytes_up', 'mean')], label=f'Média - {label}')\n",
    "    plt.plot(result_stats['hour'], result_stats[('bytes_up', 'var')], label=f'Variância - {label}')\n",
    "    plt.plot(result_stats['hour'], result_stats[('bytes_up', 'std')], label=f'Desvio Padrão - {label}')\n",
    "    plt.title(f'Estatísticas - Taxa de Upload - {label}')\n",
    "    plt.xlabel('Hora')\n",
    "    plt.ylabel('Valores')\n",
    "    plt.legend()\n",
    "\n",
    "    # Taxa de Download\n",
    "    plt.subplot(2, 1, 2)\n",
    "    plt.plot(result_stats['hour'], result_stats[('bytes_down', 'mean')], label=f'Média - {label}')\n",
    "    plt.plot(result_stats['hour'], result_stats[('bytes_down', 'var')], label=f'Variância - {label}')\n",
    "    plt.plot(result_stats['hour'], result_stats[('bytes_down', 'std')], label=f'Desvio Padrão - {label}')\n",
    "    plt.title(f'Estatísticas - Taxa de Download - {label}')\n",
    "    plt.xlabel('Hora')\n",
    "    plt.ylabel('Valores')\n",
    "    plt.legend()\n",
    "\n",
    "    plt.tight_layout()\n",
    "    plt.savefig(f'output_data/3_stats_p_hora/stats_{label}.png')\n",
    "    plt.show()\n",
    "\n",
    "\n",
    "label_smarttv = 'SmartTV'\n",
    "label_chromecast = 'Chromecast'\n",
    "\n",
    "# Chama a função para gerar os gráficos para Smart TV\n",
    "plot_statistics(df_smarttv, label_smarttv)\n",
    "\n",
    "# Chama a função para gerar os gráficos para Chromecast\n",
    "plot_statistics(df_chromecast, label_chromecast)"
   ]
  },
  {
   "cell_type": "code",
   "execution_count": null,
   "metadata": {},
   "outputs": [],
   "source": [
    "def plot_hourly_boxplots(df, device, column):\n",
    "\n",
    "    df['date_hour'] = pd.to_datetime(df['date_hour'])\n",
    "    df['hour'] = df['date_hour'].dt.hour\n",
    "    device_data = df[[column, 'hour']]\n",
    "\n",
    "    label = 'Taxa de Download' if column == 'bytes_down' else 'Taxa de Upload'\n",
    "\n",
    "    # Create a boxplot using Seaborn\n",
    "    plt.figure(figsize=(12, 6))\n",
    "    sns.boxplot(x='hour', y=column, data=device_data)\n",
    "    plt.title(f'Box-Plots P/ Hora - {device} - {label}')\n",
    "    plt.xlabel('Hora')\n",
    "    plt.ylabel(f'{column}')\n",
    "    plt.savefig(f'output_data/3_stats_p_hora/boxplot_{device}_{column}.png')\n",
    "    plt.show()\n",
    "\n",
    "# Example of usage for Chromecast and Smart-TV, bytes_up and bytes_down\n",
    "# Replace df_chromecast and df_smarttv with your actual DataFrames\n",
    "plot_hourly_boxplots(df_chromecast, 'Chromecast', 'bytes_up')\n",
    "plot_hourly_boxplots(df_chromecast, 'Chromecast', 'bytes_down')\n",
    "plot_hourly_boxplots(df_smarttv, 'SmartTV', 'bytes_up')\n",
    "plot_hourly_boxplots(df_smarttv, 'SmartTV', 'bytes_down')\n"
   ]
  }
 ],
 "metadata": {
  "kernelspec": {
   "display_name": "trabalho-um",
   "language": "python",
   "name": "python3"
  },
  "language_info": {
   "codemirror_mode": {
    "name": "ipython",
    "version": 3
   },
   "file_extension": ".py",
   "mimetype": "text/x-python",
   "name": "python",
   "nbconvert_exporter": "python",
   "pygments_lexer": "ipython3",
   "version": "3.11.3"
  }
 },
 "nbformat": 4,
 "nbformat_minor": 2
}
